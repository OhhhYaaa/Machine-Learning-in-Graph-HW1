{
 "cells": [
  {
   "cell_type": "markdown",
   "id": "b45bf55e-7114-4e4f-a12b-040e8a852231",
   "metadata": {},
   "source": [
    "# HW1"
   ]
  },
  {
   "cell_type": "code",
   "execution_count": 54,
   "id": "0b575d7a-ea09-4b55-bbe5-6fcb1cd51bba",
   "metadata": {},
   "outputs": [
    {
     "name": "stderr",
     "output_type": "stream",
     "text": [
      "/home/rita/miniconda3/envs/jupyterlab/lib/python3.9/site-packages/tqdm/auto.py:22: TqdmWarning: IProgress not found. Please update jupyter and ipywidgets. See https://ipywidgets.readthedocs.io/en/stable/user_install.html\n",
      "  from .autonotebook import tqdm as notebook_tqdm\n"
     ]
    }
   ],
   "source": [
    "import numpy as np\n",
    "import pandas as pd\n",
    "import os, glob, tqdm, time\n",
    "from tqdm import tqdm, trange\n",
    "import multiprocessing\n",
    "from multiprocessing import Pool\n",
    "from sklearn import preprocessing\n",
    "\n",
    "import networkx as nx\n",
    "from torch_geometric.data import Data, InMemoryDataset, DataLoader\n",
    "import torch\n",
    "import torch.nn as nn\n",
    "from torch.nn import Linear, Parameter, Sequential\n",
    "from torch_geometric.nn import MessagePassing\n",
    "from torch_geometric.utils import degree, add_self_loops, convert\n",
    "import torch.nn.functional as F\n",
    "from torch_geometric.utils.convert import to_networkx, from_networkx\n",
    "from torch.utils.data import Dataset, DataLoader, TensorDataset\n",
    "\n",
    "\n",
    "import matplotlib.pyplot as plt"
   ]
  },
  {
   "cell_type": "code",
   "execution_count": 55,
   "id": "3612f20e-c419-47c4-911a-44a3871f7b27",
   "metadata": {},
   "outputs": [
    {
     "name": "stdout",
     "output_type": "stream",
     "text": [
      "Training on device cuda.\n"
     ]
    }
   ],
   "source": [
    "device = (torch.device('cuda') if torch.cuda.is_available()\n",
    "          else torch.device('cpu'))\n",
    "print(f\"Training on device {device}.\")"
   ]
  },
  {
   "cell_type": "markdown",
   "id": "1407bf70-1678-4206-af11-417e85ef3a98",
   "metadata": {},
   "source": [
    "## Read Data"
   ]
  },
  {
   "cell_type": "code",
   "execution_count": 56,
   "id": "87afedc1-7b52-4f6e-8c30-9d74670cba02",
   "metadata": {},
   "outputs": [
    {
     "data": {
      "text/plain": [
       "'/home/rita/111/111-2MLG/HW1'"
      ]
     },
     "execution_count": 3,
     "metadata": {},
     "output_type": "execute_result"
    }
   ],
   "source": [
    "os.chdir('/home/rita/111/111-2MLG/HW1')\n",
    "os.getcwd()"
   ]
  },
  {
   "cell_type": "code",
   "execution_count": 57,
   "id": "da61104f-97e6-43df-8b6f-ff17b7afbd18",
   "metadata": {},
   "outputs": [
    {
     "name": "stdout",
     "output_type": "stream",
     "text": [
      "<class 'numpy.ndarray'>\n",
      "<class 'numpy.ndarray'>\n",
      "(2987623, 2)\n",
      "(1134890, 2)\n",
      "[[0 2]\n",
      " [0 3]]\n",
      "[['0:' 29320492.911274]\n",
      " ['1:' 445191851.627834]]\n"
     ]
    }
   ],
   "source": [
    "youtube_edges = np.array(pd.read_table('./hw1_data/youtube/com-youtube.txt', sep = ' '))\n",
    "youtube_scores = np.array(pd.read_table('./hw1_data/youtube/com-youtube_score.txt', header = None))\n",
    "print(type(youtube_edges))\n",
    "print(type(youtube_scores))\n",
    "print(youtube_edges.shape)\n",
    "print(youtube_scores.shape)\n",
    "print(youtube_edges[:2])\n",
    "print(youtube_scores[:2])"
   ]
  },
  {
   "cell_type": "code",
   "execution_count": 58,
   "id": "193430e8-17c8-4247-b7a3-7ea7006e5276",
   "metadata": {},
   "outputs": [],
   "source": [
    "def set_init(graph) :\n",
    "    row, col = graph.edge_index\n",
    "    row = row.unsqueeze(0)\n",
    "    col = col.unsqueeze(0)\n",
    "    t = torch.hstack([row, col])\n",
    "    t = t.squeeze()\n",
    "\n",
    "    deg = degree(t).float().unsqueeze(1)\n",
    "    print\n",
    "    extend = torch.ones(graph.num_nodes, 2)\n",
    "    init = torch.hstack([deg, extend])\n",
    "    graph.x = init\n",
    "    \n",
    "    return graph"
   ]
  },
  {
   "cell_type": "code",
   "execution_count": 18,
   "id": "a9366d97-4451-4679-b217-6be1cb53750a",
   "metadata": {},
   "outputs": [
    {
     "name": "stdout",
     "output_type": "stream",
     "text": [
      "<class 'torch_geometric.data.data.Data'>\n",
      "3\n",
      "torch.Size([1134890, 3])\n",
      "tensor([28.,  1.,  1.])\n",
      "Number of nodes: 1134890\n",
      "Number of edges: 2987623\n"
     ]
    }
   ],
   "source": [
    "# 生成圖\n",
    "youtube = Data(edge_index = torch.from_numpy(youtube_edges.T), num_nodes = youtube_edges.max() + 1)\n",
    "# print(youtube.x.shape)\n",
    "youtube = set_init(youtube)\n",
    "print(type(youtube))\n",
    "print(len(youtube))\n",
    "print(youtube.x.shape)\n",
    "print(youtube.x[0])\n",
    "print(f'Number of nodes: {youtube.num_nodes}')\n",
    "print(f'Number of edges: {youtube.num_edges}')"
   ]
  },
  {
   "cell_type": "code",
   "execution_count": 19,
   "id": "57578591-5a3e-42e9-8230-146af9bf3bae",
   "metadata": {
    "tags": []
   },
   "outputs": [
    {
     "name": "stdout",
     "output_type": "stream",
     "text": [
      "60\n",
      "<class 'dict'>\n",
      "<class 'numpy.ndarray'>\n",
      "<class 'numpy.ndarray'>\n",
      "[[0.         0.04482959]\n",
      " [1.         0.11496664]]\n",
      "[[0 4]\n",
      " [0 5]]\n"
     ]
    }
   ],
   "source": [
    "path = '/home/rita/111/111-2MLG/HW1/hw1_data/Synthetic/5000'\n",
    "os.chdir(path)\n",
    "files = glob.glob('*')\n",
    "file_name = [x[:-4] for x in files]\n",
    "\n",
    "total_data = {}\n",
    "for i in range(len(files)) :\n",
    "    total_data[file_name[i]] = np.array(pd.read_table(files[i], header = None))\n",
    "\n",
    "print(len(total_data))\n",
    "print(type(total_data))\n",
    "print(type(total_data[file_name[0]]))\n",
    "print(type(total_data[file_name[-1]]))\n",
    "print(total_data[file_name[0]][:2])\n",
    "print(total_data[file_name[-1]][:2])"
   ]
  },
  {
   "cell_type": "code",
   "execution_count": 20,
   "id": "e75eba00-8c47-4984-a498-ef3d22a23865",
   "metadata": {
    "tags": []
   },
   "outputs": [
    {
     "name": "stdout",
     "output_type": "stream",
     "text": [
      "30\n",
      "3\n",
      "<class 'dict'>\n",
      "<class 'torch_geometric.data.data.Data'>\n",
      "<class 'torch_geometric.data.data.Data'>\n",
      "Data(edge_index=[2, 19982], num_nodes=5000, x=[5000, 3])\n",
      "Data(edge_index=[2, 19983], num_nodes=5000, x=[5000, 3])\n",
      "tensor([[239.,   1.,   1.],\n",
      "        [178.,   1.,   1.],\n",
      "        [149.,   1.,   1.],\n",
      "        ...,\n",
      "        [  4.,   1.,   1.],\n",
      "        [  4.,   1.,   1.],\n",
      "        [  4.,   1.,   1.]])\n"
     ]
    }
   ],
   "source": [
    "# 生成圖\n",
    "total_graph = {}\n",
    "for i in range(len(files)//2):\n",
    "    edge = total_data[str(i)]\n",
    "    temp = Data(edge_index =  torch.from_numpy(edge.T), num_nodes = edge.max() + 1)\n",
    "    total_graph[i] = set_init(temp)\n",
    "print(len(total_graph))\n",
    "print(len(total_graph[0]))\n",
    "print(type(total_graph))\n",
    "print(type(total_graph[0]))\n",
    "print(type(total_graph[29]))\n",
    "print(total_graph[0])\n",
    "print(total_graph[29])\n",
    "print(total_graph[0].x)"
   ]
  },
  {
   "cell_type": "code",
   "execution_count": 22,
   "id": "72103928-778b-4f29-9b59-5a21fbae648a",
   "metadata": {},
   "outputs": [
    {
     "name": "stdout",
     "output_type": "stream",
     "text": [
      "[[1.00000000e+00 5.39707966e-02]\n",
      " [2.00000000e+00 4.43436579e-02]\n",
      " [3.00000000e+00 2.23256726e-02]\n",
      " ...\n",
      " [4.99700000e+03 1.95420222e-05]\n",
      " [4.99800000e+03 6.05783053e-05]\n",
      " [4.99900000e+03 1.09075567e-04]]\n"
     ]
    }
   ],
   "source": [
    "path = '/home/rita/111/111-2MLG/HW1/hw1_data/Synthetic/5000'\n",
    "os.chdir(path)\n",
    "files = glob.glob('*score.*')\n",
    "file_name = [x[:-10] for x in files]\n",
    "\n",
    "total_score = {}\n",
    "for i in range(len(file_name)) :\n",
    "    total_score[file_name[i]] = np.array(pd.read_table(files[i]))\n",
    "print(total_score['0'])"
   ]
  },
  {
   "cell_type": "code",
   "execution_count": 26,
   "id": "85b8a138-39d5-4d43-9b69-f1182deeef37",
   "metadata": {},
   "outputs": [
    {
     "data": {
      "text/plain": [
       "'/home/rita/111/111-2MLG/HW1'"
      ]
     },
     "execution_count": 26,
     "metadata": {},
     "output_type": "execute_result"
    }
   ],
   "source": [
    "os.chdir('/home/rita/111/111-2MLG/HW1')\n",
    "os.getcwd()"
   ]
  },
  {
   "cell_type": "code",
   "execution_count": 27,
   "id": "bcf86be2-77f7-4338-bcb0-f226b4f96848",
   "metadata": {},
   "outputs": [],
   "source": [
    "# GCNconv\n",
    "# 修改成 Algorithm 裡面的樣子\n",
    "class GCNConv_self(MessagePassing):\n",
    "    def __init__(self, in_channels, out_channels):\n",
    "        super().__init__(aggr='add')  # \"Add\" aggregation (Step 5).\n",
    "\n",
    "    def forward(self, x, edge_index):\n",
    "        row, col = edge_index\n",
    "        row = row.unsqueeze(0)\n",
    "        col = col.unsqueeze(0)\n",
    "        t = torch.hstack([row, col])\n",
    "        t = t.squeeze()\n",
    "        \n",
    "        deg = degree(t, x.size(0), dtype=x.dtype) + 1\n",
    "        deg_inv_sqrt = deg.pow(-0.5)\n",
    "        deg_inv_sqrt[deg_inv_sqrt == float('inf')] = 0\n",
    "        norm = deg_inv_sqrt[row] * deg_inv_sqrt[col]\n",
    "        out = self.propagate(edge_index, x=x, norm=norm)\n",
    "\n",
    "        return out\n",
    "\n",
    "    def message(self, x_j, norm):\n",
    "        return norm.view(-1, 1) * x_j"
   ]
  },
  {
   "cell_type": "code",
   "execution_count": 28,
   "id": "ded484de-3403-4598-ab00-d72d16810de2",
   "metadata": {},
   "outputs": [
    {
     "name": "stdout",
     "output_type": "stream",
     "text": [
      "DrBC(\n",
      "  (line2): Sequential(\n",
      "    (0): Linear(in_features=3, out_features=128, bias=True)\n",
      "    (1): ReLU()\n",
      "  )\n",
      "  (line5): GCNConv_self()\n",
      "  (line6): GRUCell(128, 128, bias=False)\n",
      "  (decoder): Sequential(\n",
      "    (0): Linear(in_features=128, out_features=32, bias=True)\n",
      "    (1): ReLU()\n",
      "    (2): Linear(in_features=32, out_features=1, bias=True)\n",
      "  )\n",
      ")\n"
     ]
    }
   ],
   "source": [
    "# DrBC\n",
    "# ENCODER DECODER\n",
    "class DrBC(nn.Module) :\n",
    "    def __init__(self, encoder_layers = 5, emb_dim = 128) :\n",
    "        super(DrBC, self).__init__()\n",
    "        # encoder\n",
    "        self.encoder_layers = encoder_layers\n",
    "        self.emb_dim = emb_dim\n",
    "        # self.n_nodes = n_nodes\n",
    "        self.line2 = nn.Sequential(\n",
    "            nn.Linear(3, self.emb_dim),  # w0 (5000 * p)\n",
    "            nn.ReLU()\n",
    "        )\n",
    "        self.line5 = GCNConv_self(self.emb_dim, self.emb_dim)\n",
    "        # w1, u1, w2, u2, w3, u3  (p * p)\n",
    "        self.line6 = nn.GRUCell(input_size = self.emb_dim, hidden_size = self.emb_dim, bias = False) # (p * p)\n",
    "        \n",
    "        # decoder\n",
    "        self.decoder = nn.Sequential(\n",
    "            nn.Linear(self.emb_dim, 32),  # w4\n",
    "            nn.ReLU(), \n",
    "            nn.Linear(32, 1),  # w5\n",
    "            # nn.Sigmoid()\n",
    "        )\n",
    "        \n",
    "    def forward(self, graph) :\n",
    "        # encoder\n",
    "        hv_0 = graph.x\n",
    "        hv = self.line2(hv_0)\n",
    "        hv = F.normalize(hv) # hv / |hv|2\n",
    "        \n",
    "        total_hv = hv.unsqueeze(0).clone().detach()\n",
    "        # total_hv = torch.tensor(hv.unsqueeze(0))\n",
    "        for i in range(2, self.encoder_layers + 1) :\n",
    "            hnv = self.line5(hv, graph.edge_index)\n",
    "            hv = self.line6(hnv, hv)\n",
    "            hv = F.normalize(hv)\n",
    "            total_hv = torch.vstack((total_hv, hv.unsqueeze(0))) # (3, 500, 64)\n",
    "        \n",
    "        z_v, _ = torch.max(total_hv, dim = 0)\n",
    "        \n",
    "        # decoder\n",
    "        out = self.decoder(z_v)\n",
    "\n",
    "        return out\n",
    "model = DrBC().to(device)\n",
    "print(model)"
   ]
  },
  {
   "cell_type": "code",
   "execution_count": 29,
   "id": "664117ce-32e7-47ba-92cf-b128c0491e01",
   "metadata": {
    "scrolled": true,
    "tags": []
   },
   "outputs": [],
   "source": [
    "# batch\n",
    "# new\n",
    "def training_loop(model, n_epochs, optimizer) : # , loss_fn, train_loader\n",
    "    nodes = 200\n",
    "    deg = 3\n",
    "    p = 0.2\n",
    "    num_g = 16\n",
    "    # loss_fn = nn.BCEWithLogitsLoss(weight = torch.tensor(16000), reduction = 'sum')\n",
    "    loss_fn = nn.BCEWithLogitsLoss()\n",
    "    t = tqdm(range(1, n_epochs + 1), total = n_epochs)\n",
    "    for epoch in t :   \n",
    "        start = 0\n",
    "        for i in range(num_g) :\n",
    "            # Draw network G from distribution D (like the power-law model)\n",
    "            g = nx.powerlaw_cluster_graph(nodes, deg, p)\n",
    "            # [dv, 1, 1]\n",
    "            degrees = list(dict(g.degree()).values())\n",
    "            degree_tensor = torch.tensor(degrees).float().unsqueeze(1)\n",
    "            extend = torch.ones(nodes, 2)\n",
    "            init = torch.hstack([degree_tensor, extend])\n",
    "            edge_index = torch.tensor(list(g.edges())) + start\n",
    "            \n",
    "            # Calculate each node’s exact BC value bv, ∀v ∈ V\n",
    "            # 1-n\n",
    "            exact_bc = nx.betweenness_centrality(g)\n",
    "            exact_bc = torch.tensor(list(exact_bc.values()))\n",
    "            \n",
    "            # 隨機取排列組合\n",
    "            input_tensor = torch.tensor(range(start, start + nodes))\n",
    "            combinations_tensor = torch.combinations(input_tensor, r = 2)\n",
    "            num_combinations = combinations_tensor.shape[0]\n",
    "            indices = torch.randperm(num_combinations)[:5 * nodes]\n",
    "            node_pair = combinations_tensor[indices]\n",
    "            \n",
    "            if (i == 0) : \n",
    "                total_init = init\n",
    "                total_exact_bc = exact_bc\n",
    "                total_node_pair = node_pair\n",
    "                total_edge_index = edge_index\n",
    "            else : \n",
    "                total_init = torch.vstack([total_init, init])\n",
    "                total_exact_bc = torch.cat([total_exact_bc, exact_bc])\n",
    "                total_node_pair = torch.vstack([total_node_pair, node_pair])\n",
    "                total_edge_index = torch.vstack([total_edge_index, edge_index])\n",
    "                \n",
    "            start += nodes\n",
    "            \n",
    "        print(total_init.shape)   \n",
    "        print(total_exact_bc.shape)  \n",
    "        print(total_node_pair.shape)  \n",
    "        print(total_edge_index.shape)  \n",
    "        \n",
    "        idx1 = total_node_pair[::, 0]\n",
    "        idx2 = total_node_pair[::, 1]\n",
    "        pyg_g = Data(edge_index = total_edge_index.T, num_nodes = total_edge_index.max() + 1)\n",
    "        pyg_g.x = total_init\n",
    "        pred_bc = model(pyg_g.to(device = device))\n",
    "        # pred_bc = pred_bc.cpu()\n",
    "        \n",
    "        pred_a = pred_bc[idx1]\n",
    "        pred_b = pred_bc[idx2]\n",
    "        yij = pred_a - pred_b\n",
    "        exact_a = total_exact_bc[idx1]\n",
    "        exact_b = total_exact_bc[idx2]\n",
    "        bij = exact_a - exact_b\n",
    "        \n",
    "        bij = bij.clone().detach().requires_grad_(True).to(device)\n",
    "        yij = yij.clone().detach().requires_grad_(True)\n",
    "        yij = yij.squeeze() # (n, )\n",
    "        \n",
    "        print(yij[:5])\n",
    "        print(bij[:5])\n",
    "        yij = yij * 10000\n",
    "        bij = bij * 10000\n",
    "        loss = loss_fn(yij, torch.sigmoid(bij))\n",
    "        print(loss.item())\n",
    "        # Update Θ = (ΘEN C, ΘDEC ) with Adam by minimizing Eq. (15)\n",
    "        optimizer.zero_grad()\n",
    "        loss.backward()\n",
    "        optimizer.step()\n",
    "                \n",
    "        t.set_description(f'Epoch[{epoch} / {n_epochs}]')\n",
    "        t.set_postfix(loss = loss.item())\n"
   ]
  },
  {
   "cell_type": "code",
   "execution_count": 30,
   "id": "09a55464-dd79-4f5a-acb2-364171e651bd",
   "metadata": {
    "tags": []
   },
   "outputs": [
    {
     "name": "stderr",
     "output_type": "stream",
     "text": [
      "Epoch[1 / 20]:   5%|▌         | 1/20 [00:01<00:30,  1.62s/it, loss=1.79]"
     ]
    },
    {
     "name": "stdout",
     "output_type": "stream",
     "text": [
      "torch.Size([3200, 3])\n",
      "torch.Size([3200])\n",
      "torch.Size([16000, 2])\n",
      "torch.Size([9441, 2])\n",
      "tensor([0.0107, 0.0064, 0.0056, 0.0029, 0.0104], device='cuda:0',\n",
      "       grad_fn=<SliceBackward0>)\n",
      "tensor([0.0223, 0.0377, 0.0067, 0.0036, 0.0719], device='cuda:0',\n",
      "       grad_fn=<SliceBackward0>)\n",
      "1.785771369934082\n"
     ]
    },
    {
     "name": "stderr",
     "output_type": "stream",
     "text": [
      "Epoch[2 / 20]:  10%|█         | 2/20 [00:03<00:29,  1.63s/it, loss=1.81]"
     ]
    },
    {
     "name": "stdout",
     "output_type": "stream",
     "text": [
      "torch.Size([3200, 3])\n",
      "torch.Size([3200])\n",
      "torch.Size([16000, 2])\n",
      "torch.Size([9441, 2])\n",
      "tensor([ 0.0042, -0.0020,  0.0043,  0.0075,  0.0031], device='cuda:0',\n",
      "       grad_fn=<SliceBackward0>)\n",
      "tensor([ 0.0053, -0.0024,  0.0029,  0.0078,  0.0017], device='cuda:0',\n",
      "       grad_fn=<SliceBackward0>)\n",
      "1.8139452934265137\n"
     ]
    },
    {
     "name": "stderr",
     "output_type": "stream",
     "text": [
      "Epoch[3 / 20]:  15%|█▌        | 3/20 [00:04<00:27,  1.64s/it, loss=1.78]"
     ]
    },
    {
     "name": "stdout",
     "output_type": "stream",
     "text": [
      "torch.Size([3200, 3])\n",
      "torch.Size([3200])\n",
      "torch.Size([16000, 2])\n",
      "torch.Size([9438, 2])\n",
      "tensor([ 1.0461e-02, -4.0770e-05,  5.4715e-03,  3.2391e-03, -4.1973e-03],\n",
      "       device='cuda:0', grad_fn=<SliceBackward0>)\n",
      "tensor([ 0.0128, -0.0007,  0.0005,  0.0031, -0.0036], device='cuda:0',\n",
      "       grad_fn=<SliceBackward0>)\n",
      "1.7763231992721558\n"
     ]
    },
    {
     "name": "stderr",
     "output_type": "stream",
     "text": [
      "Epoch[4 / 20]:  20%|██        | 4/20 [00:06<00:26,  1.64s/it, loss=1.91]"
     ]
    },
    {
     "name": "stdout",
     "output_type": "stream",
     "text": [
      "torch.Size([3200, 3])\n",
      "torch.Size([3200])\n",
      "torch.Size([16000, 2])\n",
      "torch.Size([9445, 2])\n",
      "tensor([-0.0009,  0.0082,  0.0058,  0.0036,  0.0005], device='cuda:0',\n",
      "       grad_fn=<SliceBackward0>)\n",
      "tensor([-0.0002,  0.0075,  0.0155,  0.0042,  0.0001], device='cuda:0',\n",
      "       grad_fn=<SliceBackward0>)\n",
      "1.911840796470642\n"
     ]
    },
    {
     "name": "stderr",
     "output_type": "stream",
     "text": [
      "Epoch[5 / 20]:  25%|██▌       | 5/20 [00:08<00:24,  1.64s/it, loss=1.88]"
     ]
    },
    {
     "name": "stdout",
     "output_type": "stream",
     "text": [
      "torch.Size([3200, 3])\n",
      "torch.Size([3200])\n",
      "torch.Size([16000, 2])\n",
      "torch.Size([9432, 2])\n",
      "tensor([ 0.0052,  0.0118,  0.0006, -0.0028, -0.0013], device='cuda:0',\n",
      "       grad_fn=<SliceBackward0>)\n",
      "tensor([ 4.5050e-03,  3.5475e-02,  6.6139e-05, -8.5268e-04, -1.3626e-04],\n",
      "       device='cuda:0', grad_fn=<SliceBackward0>)\n",
      "1.8811466693878174\n"
     ]
    },
    {
     "name": "stderr",
     "output_type": "stream",
     "text": [
      "Epoch[6 / 20]:  30%|███       | 6/20 [00:09<00:22,  1.64s/it, loss=1.84]"
     ]
    },
    {
     "name": "stdout",
     "output_type": "stream",
     "text": [
      "torch.Size([3200, 3])\n",
      "torch.Size([3200])\n",
      "torch.Size([16000, 2])\n",
      "torch.Size([9439, 2])\n",
      "tensor([ 0.0077, -0.0005,  0.0099,  0.0011, -0.0015], device='cuda:0',\n",
      "       grad_fn=<SliceBackward0>)\n",
      "tensor([ 0.0052, -0.0022,  0.0994,  0.0049,  0.0010], device='cuda:0',\n",
      "       grad_fn=<SliceBackward0>)\n",
      "1.8426729440689087\n"
     ]
    },
    {
     "name": "stderr",
     "output_type": "stream",
     "text": [
      "Epoch[7 / 20]:  35%|███▌      | 7/20 [00:11<00:21,  1.64s/it, loss=1.76]"
     ]
    },
    {
     "name": "stdout",
     "output_type": "stream",
     "text": [
      "torch.Size([3200, 3])\n",
      "torch.Size([3200])\n",
      "torch.Size([16000, 2])\n",
      "torch.Size([9437, 2])\n",
      "tensor([-0.0003,  0.0037,  0.0039,  0.0156, -0.0002], device='cuda:0',\n",
      "       grad_fn=<SliceBackward0>)\n",
      "tensor([ 4.5325e-04,  2.5284e-03,  3.2700e-03,  2.9114e-01, -1.6384e-04],\n",
      "       device='cuda:0', grad_fn=<SliceBackward0>)\n",
      "1.7636971473693848\n"
     ]
    },
    {
     "name": "stderr",
     "output_type": "stream",
     "text": [
      "Epoch[8 / 20]:  40%|████      | 8/20 [00:13<00:19,  1.64s/it, loss=1.84]"
     ]
    },
    {
     "name": "stdout",
     "output_type": "stream",
     "text": [
      "torch.Size([3200, 3])\n",
      "torch.Size([3200])\n",
      "torch.Size([16000, 2])\n",
      "torch.Size([9441, 2])\n",
      "tensor([ 0.0120,  0.0032,  0.0061, -0.0011,  0.0082], device='cuda:0',\n",
      "       grad_fn=<SliceBackward0>)\n",
      "tensor([ 6.4627e-02,  3.1964e-03,  2.4951e-03, -5.3848e-05,  3.3946e-03],\n",
      "       device='cuda:0', grad_fn=<SliceBackward0>)\n",
      "1.8373943567276\n"
     ]
    },
    {
     "name": "stderr",
     "output_type": "stream",
     "text": [
      "Epoch[9 / 20]:  45%|████▌     | 9/20 [00:14<00:17,  1.63s/it, loss=1.75]"
     ]
    },
    {
     "name": "stdout",
     "output_type": "stream",
     "text": [
      "torch.Size([3200, 3])\n",
      "torch.Size([3200])\n",
      "torch.Size([16000, 2])\n",
      "torch.Size([9445, 2])\n",
      "tensor([0.0043, 0.0061, 0.0034, 0.0016, 0.0051], device='cuda:0',\n",
      "       grad_fn=<SliceBackward0>)\n",
      "tensor([ 0.0055,  0.0038,  0.0016, -0.0008,  0.0023], device='cuda:0',\n",
      "       grad_fn=<SliceBackward0>)\n",
      "1.754728078842163\n"
     ]
    },
    {
     "name": "stderr",
     "output_type": "stream",
     "text": [
      "Epoch[10 / 20]:  50%|█████     | 10/20 [00:16<00:16,  1.63s/it, loss=1.92]"
     ]
    },
    {
     "name": "stdout",
     "output_type": "stream",
     "text": [
      "torch.Size([3200, 3])\n",
      "torch.Size([3200])\n",
      "torch.Size([16000, 2])\n",
      "torch.Size([9444, 2])\n",
      "tensor([-9.9216e-04,  9.8392e-04,  1.4018e-02, -2.6956e-05,  4.2222e-03],\n",
      "       device='cuda:0', grad_fn=<SliceBackward0>)\n",
      "tensor([-0.0006,  0.0007,  0.1130, -0.0007,  0.0060], device='cuda:0',\n",
      "       grad_fn=<SliceBackward0>)\n",
      "1.924261212348938\n"
     ]
    },
    {
     "name": "stderr",
     "output_type": "stream",
     "text": [
      "Epoch[11 / 20]:  55%|█████▌    | 11/20 [00:17<00:14,  1.63s/it, loss=1.92]"
     ]
    },
    {
     "name": "stdout",
     "output_type": "stream",
     "text": [
      "torch.Size([3200, 3])\n",
      "torch.Size([3200])\n",
      "torch.Size([16000, 2])\n",
      "torch.Size([9439, 2])\n",
      "tensor([ 0.0029,  0.0029,  0.0079,  0.0015, -0.0030], device='cuda:0',\n",
      "       grad_fn=<SliceBackward0>)\n",
      "tensor([ 0.0080,  0.0028,  0.0067, -0.0005, -0.0014], device='cuda:0',\n",
      "       grad_fn=<SliceBackward0>)\n",
      "1.922227382659912\n"
     ]
    },
    {
     "name": "stderr",
     "output_type": "stream",
     "text": [
      "Epoch[12 / 20]:  60%|██████    | 12/20 [00:19<00:13,  1.64s/it, loss=1.82]"
     ]
    },
    {
     "name": "stdout",
     "output_type": "stream",
     "text": [
      "torch.Size([3200, 3])\n",
      "torch.Size([3200])\n",
      "torch.Size([16000, 2])\n",
      "torch.Size([9440, 2])\n",
      "tensor([0.0110, 0.0078, 0.0033, 0.0089, 0.0001], device='cuda:0',\n",
      "       grad_fn=<SliceBackward0>)\n",
      "tensor([0.0126, 0.0107, 0.0002, 0.0128, 0.0012], device='cuda:0',\n",
      "       grad_fn=<SliceBackward0>)\n",
      "1.8247501850128174\n"
     ]
    },
    {
     "name": "stderr",
     "output_type": "stream",
     "text": [
      "Epoch[13 / 20]:  65%|██████▌   | 13/20 [00:21<00:11,  1.64s/it, loss=1.8] "
     ]
    },
    {
     "name": "stdout",
     "output_type": "stream",
     "text": [
      "torch.Size([3200, 3])\n",
      "torch.Size([3200])\n",
      "torch.Size([16000, 2])\n",
      "torch.Size([9437, 2])\n",
      "tensor([ 6.3295e-03, -5.2784e-04, -4.6423e-03,  5.8159e-05, -5.9672e-05],\n",
      "       device='cuda:0', grad_fn=<SliceBackward0>)\n",
      "tensor([ 0.0187,  0.0019, -0.0020,  0.0026, -0.0010], device='cuda:0',\n",
      "       grad_fn=<SliceBackward0>)\n",
      "1.798636555671692\n"
     ]
    },
    {
     "name": "stderr",
     "output_type": "stream",
     "text": [
      "Epoch[14 / 20]:  70%|███████   | 14/20 [00:22<00:09,  1.64s/it, loss=1.77]"
     ]
    },
    {
     "name": "stdout",
     "output_type": "stream",
     "text": [
      "torch.Size([3200, 3])\n",
      "torch.Size([3200])\n",
      "torch.Size([16000, 2])\n",
      "torch.Size([9444, 2])\n",
      "tensor([ 0.0118,  0.0076, -0.0001,  0.0058,  0.0062], device='cuda:0',\n",
      "       grad_fn=<SliceBackward0>)\n",
      "tensor([0.0435, 0.0130, 0.0026, 0.0187, 0.0038], device='cuda:0',\n",
      "       grad_fn=<SliceBackward0>)\n",
      "1.7694015502929688\n"
     ]
    },
    {
     "name": "stderr",
     "output_type": "stream",
     "text": [
      "Epoch[15 / 20]:  75%|███████▌  | 15/20 [00:24<00:08,  1.64s/it, loss=1.86]"
     ]
    },
    {
     "name": "stdout",
     "output_type": "stream",
     "text": [
      "torch.Size([3200, 3])\n",
      "torch.Size([3200])\n",
      "torch.Size([16000, 2])\n",
      "torch.Size([9441, 2])\n",
      "tensor([ 3.6879e-03, -8.7447e-05,  4.4243e-04, -2.1799e-03,  3.7344e-03],\n",
      "       device='cuda:0', grad_fn=<SliceBackward0>)\n",
      "tensor([ 1.5951e-03,  9.4459e-04, -6.9395e-04, -5.3146e-03, -2.5309e-05],\n",
      "       device='cuda:0', grad_fn=<SliceBackward0>)\n",
      "1.8554151058197021\n"
     ]
    },
    {
     "name": "stderr",
     "output_type": "stream",
     "text": [
      "Epoch[16 / 20]:  80%|████████  | 16/20 [00:26<00:06,  1.64s/it, loss=1.76]"
     ]
    },
    {
     "name": "stdout",
     "output_type": "stream",
     "text": [
      "torch.Size([3200, 3])\n",
      "torch.Size([3200])\n",
      "torch.Size([16000, 2])\n",
      "torch.Size([9437, 2])\n",
      "tensor([-0.0010,  0.0026,  0.0106, -0.0010,  0.0106], device='cuda:0',\n",
      "       grad_fn=<SliceBackward0>)\n",
      "tensor([ 0.0009, -0.0006,  0.0186, -0.0081,  0.0200], device='cuda:0',\n",
      "       grad_fn=<SliceBackward0>)\n",
      "1.7606111764907837\n"
     ]
    },
    {
     "name": "stderr",
     "output_type": "stream",
     "text": [
      "Epoch[17 / 20]:  85%|████████▌ | 17/20 [00:27<00:04,  1.63s/it, loss=1.85]"
     ]
    },
    {
     "name": "stdout",
     "output_type": "stream",
     "text": [
      "torch.Size([3200, 3])\n",
      "torch.Size([3200])\n",
      "torch.Size([16000, 2])\n",
      "torch.Size([9448, 2])\n",
      "tensor([ 0.0088,  0.0023,  0.0063,  0.0049, -0.0010], device='cuda:0',\n",
      "       grad_fn=<SliceBackward0>)\n",
      "tensor([ 0.0051,  0.0031,  0.0089,  0.0039, -0.0008], device='cuda:0',\n",
      "       grad_fn=<SliceBackward0>)\n",
      "1.8535492420196533\n"
     ]
    },
    {
     "name": "stderr",
     "output_type": "stream",
     "text": [
      "Epoch[18 / 20]:  90%|█████████ | 18/20 [00:29<00:03,  1.63s/it, loss=1.89]"
     ]
    },
    {
     "name": "stdout",
     "output_type": "stream",
     "text": [
      "torch.Size([3200, 3])\n",
      "torch.Size([3200])\n",
      "torch.Size([16000, 2])\n",
      "torch.Size([9446, 2])\n",
      "tensor([0.0007, 0.0059, 0.0025, 0.0019, 0.0095], device='cuda:0',\n",
      "       grad_fn=<SliceBackward0>)\n",
      "tensor([-2.9630e-04,  5.2473e-03,  9.8777e-04, -6.5618e-05,  2.6223e-01],\n",
      "       device='cuda:0', grad_fn=<SliceBackward0>)\n",
      "1.8907876014709473\n"
     ]
    },
    {
     "name": "stderr",
     "output_type": "stream",
     "text": [
      "Epoch[19 / 20]:  95%|█████████▌| 19/20 [00:31<00:01,  1.63s/it, loss=1.66]"
     ]
    },
    {
     "name": "stdout",
     "output_type": "stream",
     "text": [
      "torch.Size([3200, 3])\n",
      "torch.Size([3200])\n",
      "torch.Size([16000, 2])\n",
      "torch.Size([9428, 2])\n",
      "tensor([0.0084, 0.0117, 0.0004, 0.0083, 0.0101], device='cuda:0',\n",
      "       grad_fn=<SliceBackward0>)\n",
      "tensor([ 0.1195,  0.0307, -0.0003,  0.1271,  0.0065], device='cuda:0',\n",
      "       grad_fn=<SliceBackward0>)\n",
      "1.6611322164535522\n"
     ]
    },
    {
     "name": "stderr",
     "output_type": "stream",
     "text": [
      "Epoch[20 / 20]: 100%|██████████| 20/20 [00:32<00:00,  1.63s/it, loss=1.91]"
     ]
    },
    {
     "name": "stdout",
     "output_type": "stream",
     "text": [
      "torch.Size([3200, 3])\n",
      "torch.Size([3200])\n",
      "torch.Size([16000, 2])\n",
      "torch.Size([9437, 2])\n",
      "tensor([-0.0028,  0.0014,  0.0035,  0.0003, -0.0005], device='cuda:0',\n",
      "       grad_fn=<SliceBackward0>)\n",
      "tensor([ 1.5531e-03,  3.7803e-01,  1.1181e-03,  1.0481e-04, -2.0205e-03],\n",
      "       device='cuda:0', grad_fn=<SliceBackward0>)\n",
      "1.9147696495056152\n"
     ]
    },
    {
     "name": "stderr",
     "output_type": "stream",
     "text": [
      "\n"
     ]
    }
   ],
   "source": [
    "# parameters\n",
    "learning_rate = 1e-4\n",
    "embedding_dimension = 128\n",
    "mini_batch_size = 16\n",
    "average_node_sampling_times = 5\n",
    "maximum_episodes = 10 ** 4\n",
    "layer_iterations = 5\n",
    "model = DrBC(encoder_layers = layer_iterations, emb_dim = embedding_dimension).to(device = device)\n",
    "loss_fn = nn.BCEWithLogitsLoss(reduction = 'sum')\n",
    "optimizer = torch.optim.Adam(model.parameters(), lr = learning_rate, weight_decay = 1e-5)\n",
    "n_epochs = 20\n",
    "\n",
    "\n",
    "training_loop(\n",
    "    model = model, \n",
    "    n_epochs = n_epochs, \n",
    "    optimizer = optimizer, \n",
    "    # loss_fn = loss_fn, \n",
    "    \n",
    ")\n",
    "torch.save(model.state_dict(), './model/DrBC.pt')"
   ]
  },
  {
   "cell_type": "code",
   "execution_count": 34,
   "id": "12113903-fd7c-4c5a-b952-f66acadb8373",
   "metadata": {
    "tags": []
   },
   "outputs": [
    {
     "name": "stdout",
     "output_type": "stream",
     "text": [
      "0.46171468851881226\n",
      "(11349,)\n",
      "[184506  26813 358116   4056 159406]\n",
      "torch.Size([11349, 1])\n",
      "tensor([[ 26683],\n",
      "        [115095],\n",
      "        [199328],\n",
      "        [ 29703],\n",
      "        [ 13909]])\n"
     ]
    }
   ],
   "source": [
    "# accuracy\n",
    "def top_n_accuracy(model, graph, exact_bc, n = 1) :\n",
    "    num = int(np.ceil(graph.num_nodes * n / 100))\n",
    "    exact = np.argsort(exact_bc[::, 1])[-num:]\n",
    "    pred_bc = model(graph.to(device = device))\n",
    "    pred = torch.argsort(pred_bc, dim = 0)[-num:].cpu()\n",
    "    acc = len(np.intersect1d(exact, pred)) / num\n",
    "\n",
    "    return exact, pred, acc\n",
    "model = DrBC(encoder_layers = layer_iterations, emb_dim = embedding_dimension).to(device = device)\n",
    "model.load_state_dict(torch.load('./model/DrBC.pt'))\n",
    "exact, pred, acc = top_n_accuracy(model = model, graph = youtube, exact_bc = youtube_scores, n = 1)\n",
    "print(acc)\n",
    "print(exact.shape)\n",
    "print(exact[:5])\n",
    "print(pred.shape)\n",
    "print(pred[:5])"
   ]
  },
  {
   "cell_type": "code",
   "execution_count": null,
   "id": "24126a2e-236e-4906-bc91-6ebda6caf7ab",
   "metadata": {},
   "outputs": [],
   "source": []
  },
  {
   "cell_type": "markdown",
   "id": "5568b272-0ffb-458e-9c36-e05798ca843e",
   "metadata": {},
   "source": [
    "# Represent Table (Not Yet)"
   ]
  },
  {
   "cell_type": "code",
   "execution_count": null,
   "id": "20d78c7e-c0dc-48a0-9097-9b8a43d8fd30",
   "metadata": {},
   "outputs": [],
   "source": [
    "device = (torch.device('cuda') if torch.cuda.is_available()\n",
    "          else torch.device('cpu'))\n",
    "print(f\"Training on device {device}.\") #可以根據輸出結果知道是否有可用的GPUa"
   ]
  },
  {
   "cell_type": "code",
   "execution_count": null,
   "id": "21df96e1-a17a-4161-9091-911765de0a36",
   "metadata": {},
   "outputs": [],
   "source": [
    "# parameters\n",
    "learning_rate = 1e-4\n",
    "embedding_dimension = 128\n",
    "mini_batch_size = 16\n",
    "average_node_sampling_times = 5\n",
    "maximum_episodes = 10 ** 4\n",
    "layer_iterations = 5\n",
    "model = DrBC(encoder_layers = layer_iterations, emb_dim = embedding_dimension).to(device = device)\n",
    "loss_fn = nn.BCEWithLogitsLoss(reduction = 'sum')\n",
    "# loss_fn = nn.nn.BCELoss()\n",
    "optimizer = torch.optim.Adam(model.parameters(), lr = learning_rate) # weight_decay = 1e-5\n",
    "n_epochs = 5\n",
    "model = DrBC(encoder_layers = layer_iterations, emb_dim = embedding_dimension).to(device = device)\n",
    "model.load_state_dict(torch.load('./model/DrBC.pt'))\n",
    "model.to(device)"
   ]
  },
  {
   "cell_type": "code",
   "execution_count": null,
   "id": "a9eaf0a4-e286-4a81-bda5-10894618593e",
   "metadata": {
    "tags": []
   },
   "outputs": [],
   "source": [
    "import scipy.stats as stats\n",
    "data = youtube\n",
    "score = youtube_scores[::, 1]\n",
    "\n",
    "pred = model(data.to(device))\n",
    "exact_bc = score\n",
    "\n",
    "tau_dist, _ = stats.kendalltau(pred.cpu().detach().numpy(), exact_bc)\n",
    "print('Kendall tau distance : ', '.4f'%tau_dist)"
   ]
  },
  {
   "cell_type": "code",
   "execution_count": null,
   "id": "5bab0942-2c10-470c-81a4-a23c29d09f6f",
   "metadata": {},
   "outputs": [],
   "source": []
  },
  {
   "cell_type": "code",
   "execution_count": null,
   "id": "211defa5-7079-4712-bae9-102db4238108",
   "metadata": {},
   "outputs": [],
   "source": []
  }
 ],
 "metadata": {
  "kernelspec": {
   "display_name": "jupyterlab",
   "language": "python",
   "name": "jupyterlab"
  },
  "language_info": {
   "codemirror_mode": {
    "name": "ipython",
    "version": 3
   },
   "file_extension": ".py",
   "mimetype": "text/x-python",
   "name": "python",
   "nbconvert_exporter": "python",
   "pygments_lexer": "ipython3",
   "version": "3.9.13"
  }
 },
 "nbformat": 4,
 "nbformat_minor": 5
}
