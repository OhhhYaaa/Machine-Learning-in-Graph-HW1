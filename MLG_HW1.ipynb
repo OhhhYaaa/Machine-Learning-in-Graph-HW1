{
 "cells": [
  {
   "cell_type": "markdown",
   "id": "b45bf55e-7114-4e4f-a12b-040e8a852231",
   "metadata": {},
   "source": [
    "# HW1"
   ]
  },
  {
   "cell_type": "code",
   "execution_count": 126,
   "id": "0b575d7a-ea09-4b55-bbe5-6fcb1cd51bba",
   "metadata": {},
   "outputs": [],
   "source": [
    "import numpy as np\n",
    "import pandas as pd\n",
    "import os, glob, tqdm, time\n",
    "from tqdm import tqdm, trange\n",
    "import multiprocessing\n",
    "from multiprocessing import Pool\n",
    "from sklearn import preprocessing\n",
    "import scipy.stats as stats\n",
    "import csv\n",
    "\n",
    "import networkx as nx\n",
    "from torch_geometric.data import Data, InMemoryDataset, DataLoader\n",
    "import torch\n",
    "import torch.nn as nn\n",
    "from torch.nn import Linear, Parameter, Sequential\n",
    "from torch_geometric.nn import MessagePassing\n",
    "from torch_geometric.utils import degree, add_self_loops, convert\n",
    "import torch.nn.functional as F\n",
    "from torch_geometric.utils.convert import to_networkx, from_networkx\n",
    "from torch.utils.data import Dataset, DataLoader, TensorDataset\n",
    "\n",
    "\n",
    "import matplotlib.pyplot as plt"
   ]
  },
  {
   "cell_type": "code",
   "execution_count": 2,
   "id": "3612f20e-c419-47c4-911a-44a3871f7b27",
   "metadata": {},
   "outputs": [
    {
     "name": "stdout",
     "output_type": "stream",
     "text": [
      "Training on device cuda.\n"
     ]
    }
   ],
   "source": [
    "device = (torch.device('cuda') if torch.cuda.is_available()\n",
    "          else torch.device('cpu'))\n",
    "print(f\"Training on device {device}.\")"
   ]
  },
  {
   "cell_type": "markdown",
   "id": "1407bf70-1678-4206-af11-417e85ef3a98",
   "metadata": {},
   "source": [
    "## Read Data"
   ]
  },
  {
   "cell_type": "code",
   "execution_count": 3,
   "id": "87afedc1-7b52-4f6e-8c30-9d74670cba02",
   "metadata": {},
   "outputs": [
    {
     "data": {
      "text/plain": [
       "'/home/rita/111/111-2MLG/HW1'"
      ]
     },
     "execution_count": 3,
     "metadata": {},
     "output_type": "execute_result"
    }
   ],
   "source": [
    "os.chdir('/home/rita/111/111-2MLG/HW1')\n",
    "os.getcwd()"
   ]
  },
  {
   "cell_type": "code",
   "execution_count": 5,
   "id": "193430e8-17c8-4247-b7a3-7ea7006e5276",
   "metadata": {},
   "outputs": [],
   "source": [
    "def set_init(graph) :\n",
    "    row, col = graph.edge_index\n",
    "    row = row.unsqueeze(0)\n",
    "    col = col.unsqueeze(0)\n",
    "    t = torch.hstack([row, col])\n",
    "    t = t.squeeze()\n",
    "\n",
    "    deg = degree(t).float().unsqueeze(1)\n",
    "    print\n",
    "    extend = torch.ones(graph.num_nodes, 2)\n",
    "    init = torch.hstack([deg, extend])\n",
    "    graph.x = init\n",
    "    \n",
    "    return graph"
   ]
  },
  {
   "cell_type": "code",
   "execution_count": 4,
   "id": "da61104f-97e6-43df-8b6f-ff17b7afbd18",
   "metadata": {},
   "outputs": [
    {
     "name": "stdout",
     "output_type": "stream",
     "text": [
      "<class 'numpy.ndarray'>\n",
      "<class 'numpy.ndarray'>\n",
      "(2987623, 2)\n",
      "(1134890, 2)\n",
      "[[0 2]\n",
      " [0 3]]\n",
      "[['0:' 29320492.911274]\n",
      " ['1:' 445191851.627834]]\n"
     ]
    }
   ],
   "source": [
    "youtube_edges = np.array(pd.read_table('./hw1_data/youtube/com-youtube.txt', sep = ' '))\n",
    "youtube_scores = np.array(pd.read_table('./hw1_data/youtube/com-youtube_score.txt', header = None))\n",
    "print(type(youtube_edges))\n",
    "print(type(youtube_scores))\n",
    "print(youtube_edges.shape)\n",
    "print(youtube_scores.shape)\n",
    "print(youtube_edges[:2])\n",
    "print(youtube_scores[:2])"
   ]
  },
  {
   "cell_type": "code",
   "execution_count": 6,
   "id": "a9366d97-4451-4679-b217-6be1cb53750a",
   "metadata": {},
   "outputs": [
    {
     "name": "stdout",
     "output_type": "stream",
     "text": [
      "<class 'torch_geometric.data.data.Data'>\n",
      "3\n",
      "torch.Size([1134890, 3])\n",
      "tensor([28.,  1.,  1.])\n",
      "Number of nodes: 1134890\n",
      "Number of edges: 2987623\n"
     ]
    }
   ],
   "source": [
    "# 生成圖\n",
    "youtube = Data(edge_index = torch.from_numpy(youtube_edges.T), num_nodes = youtube_edges.max() + 1)\n",
    "# print(youtube.x.shape)\n",
    "youtube = set_init(youtube)\n",
    "print(type(youtube))\n",
    "print(len(youtube))\n",
    "print(youtube.x.shape)\n",
    "print(youtube.x[0])\n",
    "print(f'Number of nodes: {youtube.num_nodes}')\n",
    "print(f'Number of edges: {youtube.num_edges}')"
   ]
  },
  {
   "cell_type": "code",
   "execution_count": 7,
   "id": "57578591-5a3e-42e9-8230-146af9bf3bae",
   "metadata": {
    "tags": []
   },
   "outputs": [
    {
     "name": "stdout",
     "output_type": "stream",
     "text": [
      "60\n",
      "<class 'dict'>\n",
      "<class 'numpy.ndarray'>\n",
      "<class 'numpy.ndarray'>\n",
      "[[0.         0.04482959]\n",
      " [1.         0.11496664]]\n",
      "[[0 4]\n",
      " [0 5]]\n"
     ]
    }
   ],
   "source": [
    "path = '/home/rita/111/111-2MLG/HW1/hw1_data/Synthetic/5000'\n",
    "os.chdir(path)\n",
    "files = glob.glob('*')\n",
    "file_name = [x[:-4] for x in files]\n",
    "\n",
    "total_data = {}\n",
    "for i in range(len(files)) :\n",
    "    total_data[file_name[i]] = np.array(pd.read_table(files[i], header = None))\n",
    "\n",
    "print(len(total_data))\n",
    "print(type(total_data))\n",
    "print(type(total_data[file_name[0]]))\n",
    "print(type(total_data[file_name[-1]]))\n",
    "print(total_data[file_name[0]][:2])\n",
    "print(total_data[file_name[-1]][:2])"
   ]
  },
  {
   "cell_type": "code",
   "execution_count": 8,
   "id": "e75eba00-8c47-4984-a498-ef3d22a23865",
   "metadata": {
    "tags": []
   },
   "outputs": [
    {
     "name": "stdout",
     "output_type": "stream",
     "text": [
      "30\n",
      "3\n",
      "<class 'dict'>\n",
      "<class 'torch_geometric.data.data.Data'>\n",
      "<class 'torch_geometric.data.data.Data'>\n",
      "Data(edge_index=[2, 19982], num_nodes=5000, x=[5000, 3])\n",
      "Data(edge_index=[2, 19983], num_nodes=5000, x=[5000, 3])\n",
      "tensor([[239.,   1.,   1.],\n",
      "        [178.,   1.,   1.],\n",
      "        [149.,   1.,   1.],\n",
      "        ...,\n",
      "        [  4.,   1.,   1.],\n",
      "        [  4.,   1.,   1.],\n",
      "        [  4.,   1.,   1.]])\n"
     ]
    }
   ],
   "source": [
    "# 生成圖\n",
    "total_graph = {}\n",
    "for i in range(len(files)//2):\n",
    "    edge = total_data[str(i)]\n",
    "    temp = Data(edge_index =  torch.from_numpy(edge.T), num_nodes = edge.max() + 1)\n",
    "    total_graph[i] = set_init(temp)\n",
    "print(len(total_graph))\n",
    "print(len(total_graph[0]))\n",
    "print(type(total_graph))\n",
    "print(type(total_graph[0]))\n",
    "print(type(total_graph[29]))\n",
    "print(total_graph[0])\n",
    "print(total_graph[29])\n",
    "print(total_graph[0].x)"
   ]
  },
  {
   "cell_type": "code",
   "execution_count": 50,
   "id": "72103928-778b-4f29-9b59-5a21fbae648a",
   "metadata": {},
   "outputs": [
    {
     "name": "stdout",
     "output_type": "stream",
     "text": [
      "[[0.00000000e+00 9.41745309e-02]\n",
      " [1.00000000e+00 5.39707966e-02]\n",
      " [2.00000000e+00 4.43436579e-02]\n",
      " ...\n",
      " [4.99700000e+03 1.95420222e-05]\n",
      " [4.99800000e+03 6.05783053e-05]\n",
      " [4.99900000e+03 1.09075567e-04]]\n"
     ]
    }
   ],
   "source": [
    "path = '/home/rita/111/111-2MLG/HW1/hw1_data/Synthetic/5000'\n",
    "os.chdir(path)\n",
    "files = glob.glob('*score.*')\n",
    "file_name = [x[:-10] for x in files]\n",
    "\n",
    "total_score = {}\n",
    "for i in range(len(file_name)) :\n",
    "    total_score[file_name[i]] = np.array(pd.read_table(files[i], header = None))\n",
    "print(total_score['0'])"
   ]
  },
  {
   "cell_type": "code",
   "execution_count": 100,
   "id": "85b8a138-39d5-4d43-9b69-f1182deeef37",
   "metadata": {},
   "outputs": [
    {
     "data": {
      "text/plain": [
       "'/home/rita/111/111-2MLG/HW1'"
      ]
     },
     "execution_count": 100,
     "metadata": {},
     "output_type": "execute_result"
    }
   ],
   "source": [
    "os.chdir('/home/rita/111/111-2MLG/HW1')\n",
    "os.getcwd()"
   ]
  },
  {
   "cell_type": "markdown",
   "id": "bd2e56a8-cfc6-490c-919f-f449653f0fe9",
   "metadata": {},
   "source": [
    "## Model"
   ]
  },
  {
   "cell_type": "code",
   "execution_count": 11,
   "id": "bcf86be2-77f7-4338-bcb0-f226b4f96848",
   "metadata": {},
   "outputs": [],
   "source": [
    "# GCNconv\n",
    "# 修改成 Algorithm 裡面的樣子\n",
    "class GCNConv_self(MessagePassing):\n",
    "    def __init__(self, in_channels, out_channels):\n",
    "        super().__init__(aggr='add')  # \"Add\" aggregation (Step 5).\n",
    "\n",
    "    def forward(self, x, edge_index):\n",
    "        row, col = edge_index\n",
    "        row = row.unsqueeze(0)\n",
    "        col = col.unsqueeze(0)\n",
    "        t = torch.hstack([row, col])\n",
    "        t = t.squeeze()\n",
    "        \n",
    "        deg = degree(t, x.size(0), dtype=x.dtype) + 1\n",
    "        deg_inv_sqrt = deg.pow(-0.5)\n",
    "        deg_inv_sqrt[deg_inv_sqrt == float('inf')] = 0\n",
    "        norm = deg_inv_sqrt[row] * deg_inv_sqrt[col]\n",
    "        out = self.propagate(edge_index, x=x, norm=norm)\n",
    "\n",
    "        return out\n",
    "\n",
    "    def message(self, x_j, norm):\n",
    "        return norm.view(-1, 1) * x_j"
   ]
  },
  {
   "cell_type": "code",
   "execution_count": 12,
   "id": "ded484de-3403-4598-ab00-d72d16810de2",
   "metadata": {},
   "outputs": [
    {
     "name": "stdout",
     "output_type": "stream",
     "text": [
      "DrBC(\n",
      "  (line2): Sequential(\n",
      "    (0): Linear(in_features=3, out_features=128, bias=True)\n",
      "    (1): ReLU()\n",
      "  )\n",
      "  (line5): GCNConv_self()\n",
      "  (line6): GRUCell(128, 128, bias=False)\n",
      "  (decoder): Sequential(\n",
      "    (0): Linear(in_features=128, out_features=32, bias=True)\n",
      "    (1): ReLU()\n",
      "    (2): Linear(in_features=32, out_features=1, bias=True)\n",
      "  )\n",
      ")\n"
     ]
    }
   ],
   "source": [
    "# DrBC\n",
    "# ENCODER DECODER\n",
    "class DrBC(nn.Module) :\n",
    "    def __init__(self, encoder_layers = 5, emb_dim = 128) :\n",
    "        super(DrBC, self).__init__()\n",
    "        # encoder\n",
    "        self.encoder_layers = encoder_layers\n",
    "        self.emb_dim = emb_dim\n",
    "        # self.n_nodes = n_nodes\n",
    "        self.line2 = nn.Sequential(\n",
    "            nn.Linear(3, self.emb_dim),  # w0 (5000 * p)\n",
    "            nn.ReLU()\n",
    "        )\n",
    "        self.line5 = GCNConv_self(self.emb_dim, self.emb_dim)\n",
    "        # w1, u1, w2, u2, w3, u3  (p * p)\n",
    "        self.line6 = nn.GRUCell(input_size = self.emb_dim, hidden_size = self.emb_dim, bias = False) # (p * p)\n",
    "        \n",
    "        # decoder\n",
    "        self.decoder = nn.Sequential(\n",
    "            nn.Linear(self.emb_dim, 32),  # w4\n",
    "            nn.ReLU(), \n",
    "            nn.Linear(32, 1),  # w5\n",
    "            # nn.Sigmoid()\n",
    "        )\n",
    "        \n",
    "    def forward(self, graph) :\n",
    "        # encoder\n",
    "        hv_0 = graph.x\n",
    "        hv = self.line2(hv_0)\n",
    "        hv = F.normalize(hv) # hv / |hv|2\n",
    "        \n",
    "        total_hv = hv.unsqueeze(0).clone().detach()\n",
    "        # total_hv = torch.tensor(hv.unsqueeze(0))\n",
    "        for i in range(2, self.encoder_layers + 1) :\n",
    "            hnv = self.line5(hv, graph.edge_index)\n",
    "            hv = self.line6(hnv, hv)\n",
    "            hv = F.normalize(hv)\n",
    "            total_hv = torch.vstack((total_hv, hv.unsqueeze(0))) # (3, 500, 64)\n",
    "        \n",
    "        z_v, _ = torch.max(total_hv, dim = 0)\n",
    "        \n",
    "        # decoder\n",
    "        out = self.decoder(z_v)\n",
    "\n",
    "        return out\n",
    "model = DrBC().to(device)\n",
    "print(model)"
   ]
  },
  {
   "cell_type": "code",
   "execution_count": null,
   "id": "793b2ebd-a086-4821-9d41-fb62c5f13029",
   "metadata": {},
   "outputs": [],
   "source": []
  },
  {
   "cell_type": "markdown",
   "id": "a856268e-51ff-4169-9a12-7ec38dae0178",
   "metadata": {},
   "source": [
    "### Train"
   ]
  },
  {
   "cell_type": "code",
   "execution_count": null,
   "id": "20d78c7e-c0dc-48a0-9097-9b8a43d8fd30",
   "metadata": {},
   "outputs": [],
   "source": [
    "device = (torch.device('cuda') if torch.cuda.is_available()\n",
    "          else torch.device('cpu'))\n",
    "print(f\"Training on device {device}.\") #可以根據輸出結果知道是否有可用的GPUa"
   ]
  },
  {
   "cell_type": "code",
   "execution_count": 87,
   "id": "fba5e729-1f36-452d-8778-07639d4b2f37",
   "metadata": {},
   "outputs": [
    {
     "name": "stdout",
     "output_type": "stream",
     "text": [
      "[146]\n",
      "146\n"
     ]
    }
   ],
   "source": [
    "a = np.random.randint(100, 200, 1)\n",
    "print(a)\n",
    "print(int(a))"
   ]
  },
  {
   "cell_type": "code",
   "execution_count": 140,
   "id": "664117ce-32e7-47ba-92cf-b128c0491e01",
   "metadata": {
    "scrolled": true,
    "tags": []
   },
   "outputs": [],
   "source": [
    "# batch\n",
    "# new\n",
    "def training_loop(model, n_epochs, optimizer, loss_fn, scale, batch_size = 16) : # , loss_fn, train_loader\n",
    "    ls_loss = []\n",
    "    t = tqdm(range(1, n_epochs + 1), total = n_epochs)\n",
    "    for epoch in t :   \n",
    "        start = 0\n",
    "        for i in range(batch_size) :\n",
    "            if (len(scale) == 1) : \n",
    "                s = scale[0]\n",
    "            else : \n",
    "                s = int(np.random.randint(scale[0], scale[1], 1))\n",
    "            # Draw network G from distribution D (like the power-law model)\n",
    "            g = nx.powerlaw_cluster_graph(s, 7, 0.5)\n",
    "            # [dv, 1, 1]\n",
    "            degrees = list(dict(g.degree()).values())\n",
    "            degree_tensor = torch.tensor(degrees).float().unsqueeze(1)\n",
    "            extend = torch.ones(s, 2)\n",
    "            init = torch.hstack([degree_tensor, extend])\n",
    "            edge_index = torch.tensor(list(g.edges())) + start\n",
    "            \n",
    "            # Calculate each node’s exact BC value bv, ∀v ∈ V\n",
    "            # 1-n\n",
    "            exact_bc = nx.betweenness_centrality(g)\n",
    "            exact_bc = torch.tensor(list(exact_bc.values()))\n",
    "            \n",
    "            # 隨機取排列組合\n",
    "            input_tensor = torch.tensor(range(start, start + s))\n",
    "            combinations_tensor = torch.combinations(input_tensor, r = 2)\n",
    "            num_combinations = combinations_tensor.shape[0]\n",
    "            indices = torch.randperm(num_combinations)[:5 * s]\n",
    "            node_pair = combinations_tensor[indices]\n",
    "            \n",
    "            if (i == 0) : \n",
    "                total_init = init\n",
    "                total_exact_bc = exact_bc\n",
    "                total_node_pair = node_pair\n",
    "                total_edge_index = edge_index\n",
    "            else : \n",
    "                total_init = torch.vstack([total_init, init])\n",
    "                total_exact_bc = torch.cat([total_exact_bc, exact_bc])\n",
    "                total_node_pair = torch.vstack([total_node_pair, node_pair])\n",
    "                total_edge_index = torch.vstack([total_edge_index, edge_index])\n",
    "                \n",
    "            start += s\n",
    "            \n",
    "        idx1 = total_node_pair[::, 0]\n",
    "        idx2 = total_node_pair[::, 1]\n",
    "        pyg_g = Data(edge_index = total_edge_index.T, num_nodes = total_edge_index.max() + 1)\n",
    "        pyg_g.x = total_init\n",
    "        pred_bc = model(pyg_g.to(device = device))\n",
    "        \n",
    "        pred_a = pred_bc[idx1]\n",
    "        pred_b = pred_bc[idx2]\n",
    "        yij = pred_a - pred_b\n",
    "        exact_a = total_exact_bc[idx1]\n",
    "        exact_b = total_exact_bc[idx2]\n",
    "        bij = (exact_a - exact_b).to(device)\n",
    "        \n",
    "        # bij = bij.clone().detach().requires_grad_(True).to(device)\n",
    "        # yij = yij.clone().detach().requires_grad_(True)\n",
    "        yij = yij.squeeze() # (n, )\n",
    "        \n",
    "        bij = (bij-torch.mean(bij)) / torch.std(bij)\n",
    "        yij = (yij-torch.mean(yij)) / torch.std(yij)\n",
    "        \n",
    "        loss = loss_fn(yij, torch.sigmoid(bij))\n",
    "        ls_loss.append(loss.item())\n",
    "        # print(loss.item())\n",
    "        # Update Θ = (ΘEN C, ΘDEC ) with Adam by minimizing Eq. (15)\n",
    "        optimizer.zero_grad()\n",
    "        loss.backward()\n",
    "        optimizer.step()\n",
    "                \n",
    "        t.set_description(f'Epoch[{epoch} / {n_epochs}]')\n",
    "        t.set_postfix(loss = loss.item())\n",
    "        \n",
    "    if (len(scale) == 1) : \n",
    "        filename = './model/DrBC_{}.pt'.format(scale)\n",
    "    else : \n",
    "        filename = './model/DrBC_{}_{}.pt'.format(scale[0], scale[1])\n",
    "    torch.save(model.state_dict(), filename)\n",
    "    print(filename[8:], 'Finish Training ! ')\n",
    "    return ls_loss\n"
   ]
  },
  {
   "cell_type": "code",
   "execution_count": 143,
   "id": "254ec491-c8ef-4ac1-889f-da095aca1769",
   "metadata": {
    "tags": []
   },
   "outputs": [
    {
     "data": {
      "image/png": "[encoded data removed]",
      "text/plain": [
       "<Figure size 640x480 with 2 Axes>"
      ]
     },
     "metadata": {},
     "output_type": "display_data"
    }
   ],
   "source": [
    "plt.subplot(1, 2, 1)\n",
    "plt.title('Loss After Log')\n",
    "temp = np.array(ls_loss)\n",
    "temp = np.log(temp)\n",
    "plt.plot(range(n_epochs), temp, label=\"train\")\n",
    "plt.legend()\n",
    "plt.savefig('loss.png')\n",
    "# plt.show()\n",
    "plt.subplot(1, 2, 2)\n",
    "plt.title('Loss')\n",
    "temp = np.array(ls_loss)\n",
    "temp = np.log(temp)\n",
    "plt.plot(range(n_epochs), ls_loss, label=\"train\")\n",
    "plt.legend()\n",
    "plt.savefig('loss.png')\n",
    "plt.show()"
   ]
  },
  {
   "cell_type": "code",
   "execution_count": 142,
   "id": "13a85773-ff41-4bab-b66e-52d2b9f70e3b",
   "metadata": {},
   "outputs": [
    {
     "name": "stderr",
     "output_type": "stream",
     "text": [
      "Epoch[30 / 30]: 100%|██████████| 30/30 [00:40<00:00,  1.36s/it, loss=0.693]"
     ]
    },
    {
     "name": "stdout",
     "output_type": "stream",
     "text": [
      "DrBC_100_200.pt Finish Training ! \n"
     ]
    },
    {
     "name": "stderr",
     "output_type": "stream",
     "text": [
      "\n"
     ]
    }
   ],
   "source": [
    "# train and save model\n",
    "# table 6, table 7\n",
    "learning_rate = 1e-4\n",
    "embedding_dimension = 128\n",
    "mini_batch_size = 16\n",
    "average_node_sampling_times = 5\n",
    "maximum_episodes = 10 ** 4\n",
    "layer_iterations = 5\n",
    "model = DrBC(encoder_layers = layer_iterations, emb_dim = embedding_dimension).to(device = device)\n",
    "loss_fn = nn.BCEWithLogitsLoss(reduction = 'sum')\n",
    "loss_fn = nn.BCEWithLogitsLoss() # 0.693\n",
    "optimizer = torch.optim.Adam(model.parameters(), lr = learning_rate, weight_decay = 1e-5)\n",
    "n_epochs = 30\n",
    "\n",
    "train_scale = [[100, 200], [200, 300], [1000, 1200], [2000, 3000], [4000, 5000]]\n",
    "test_scale = [5000, 10000, 20000, 50000, 100000]\n",
    "\n",
    "loss = {}\n",
    "for i in train_scale[:1] :\n",
    "    ls_loss = training_loop(\n",
    "        model = model, \n",
    "        n_epochs = n_epochs, \n",
    "        optimizer = optimizer, \n",
    "        loss_fn = loss_fn, \n",
    "        scale = i, \n",
    "        batch_size = mini_batch_size\n",
    "\n",
    "    )\n",
    "    loss[str(i)] = ls_loss\n"
   ]
  },
  {
   "cell_type": "code",
   "execution_count": 125,
   "id": "4f08a574-3703-4715-b6be-3f7057cbdf96",
   "metadata": {},
   "outputs": [
    {
     "name": "stdout",
     "output_type": "stream",
     "text": [
      "dict_keys(['[100, 200]', '[200, 300]', '[1000, 1200]'])\n"
     ]
    }
   ],
   "source": [
    "print(loss.keys())"
   ]
  },
  {
   "cell_type": "code",
   "execution_count": 127,
   "id": "7cb0d160-cdbf-40c7-b2e6-9099bee4912e",
   "metadata": {},
   "outputs": [],
   "source": [
    "w = csv.writer(open(\"loss.csv\", \"w\"))\n",
    "for key, val in loss.items():\n",
    "    w.writerow([key, val])"
   ]
  },
  {
   "cell_type": "code",
   "execution_count": 122,
   "id": "5143f5c1-9c2d-48b6-a792-6f639638cb60",
   "metadata": {
    "collapsed": true,
    "jupyter": {
     "outputs_hidden": true
    },
    "tags": []
   },
   "outputs": [
    {
     "name": "stderr",
     "output_type": "stream",
     "text": [
      "  0%|          | 0/10 [01:12<?, ?it/s]\n"
     ]
    },
    {
     "ename": "KeyboardInterrupt",
     "evalue": "",
     "output_type": "error",
     "traceback": [
      "\u001b[0;31m---------------------------------------------------------------------------\u001b[0m",
      "\u001b[0;31mKeyboardInterrupt\u001b[0m                         Traceback (most recent call last)",
      "Cell \u001b[0;32mIn [122], line 3\u001b[0m\n\u001b[1;32m      1\u001b[0m scale \u001b[38;5;241m=\u001b[39m [[\u001b[38;5;241m5000\u001b[39m], [\u001b[38;5;241m10000\u001b[39m], [\u001b[38;5;241m20000\u001b[39m], [\u001b[38;5;241m50000\u001b[39m], [\u001b[38;5;241m100000\u001b[39m]]\n\u001b[1;32m      2\u001b[0m \u001b[38;5;28;01mfor\u001b[39;00m i \u001b[38;5;129;01min\u001b[39;00m scale[:\u001b[38;5;241m1\u001b[39m] :\n\u001b[0;32m----> 3\u001b[0m     ls_loss \u001b[38;5;241m=\u001b[39m \u001b[43mtraining_loop\u001b[49m\u001b[43m(\u001b[49m\n\u001b[1;32m      4\u001b[0m \u001b[43m        \u001b[49m\u001b[43mmodel\u001b[49m\u001b[43m \u001b[49m\u001b[38;5;241;43m=\u001b[39;49m\u001b[43m \u001b[49m\u001b[43mmodel\u001b[49m\u001b[43m,\u001b[49m\u001b[43m \u001b[49m\n\u001b[1;32m      5\u001b[0m \u001b[43m        \u001b[49m\u001b[43mn_epochs\u001b[49m\u001b[43m \u001b[49m\u001b[38;5;241;43m=\u001b[39;49m\u001b[43m \u001b[49m\u001b[43mn_epochs\u001b[49m\u001b[43m,\u001b[49m\u001b[43m \u001b[49m\n\u001b[1;32m      6\u001b[0m \u001b[43m        \u001b[49m\u001b[43moptimizer\u001b[49m\u001b[43m \u001b[49m\u001b[38;5;241;43m=\u001b[39;49m\u001b[43m \u001b[49m\u001b[43moptimizer\u001b[49m\u001b[43m,\u001b[49m\u001b[43m \u001b[49m\n\u001b[1;32m      7\u001b[0m \u001b[43m        \u001b[49m\u001b[43mloss_fn\u001b[49m\u001b[43m \u001b[49m\u001b[38;5;241;43m=\u001b[39;49m\u001b[43m \u001b[49m\u001b[43mloss_fn\u001b[49m\u001b[43m,\u001b[49m\u001b[43m \u001b[49m\n\u001b[1;32m      8\u001b[0m \u001b[43m        \u001b[49m\u001b[43mscale\u001b[49m\u001b[43m \u001b[49m\u001b[38;5;241;43m=\u001b[39;49m\u001b[43m \u001b[49m\u001b[43mi\u001b[49m\u001b[43m,\u001b[49m\u001b[43m \u001b[49m\n\u001b[1;32m      9\u001b[0m \u001b[43m        \u001b[49m\u001b[43mbatch_size\u001b[49m\u001b[43m \u001b[49m\u001b[38;5;241;43m=\u001b[39;49m\u001b[43m \u001b[49m\u001b[43mmini_batch_size\u001b[49m\n\u001b[1;32m     10\u001b[0m \n\u001b[1;32m     11\u001b[0m \u001b[43m    \u001b[49m\u001b[43m)\u001b[49m\n\u001b[1;32m     12\u001b[0m     loss[\u001b[38;5;28mstr\u001b[39m(i)] \u001b[38;5;241m=\u001b[39m ls_loss\n",
      "Cell \u001b[0;32mIn [121], line 24\u001b[0m, in \u001b[0;36mtraining_loop\u001b[0;34m(model, n_epochs, optimizer, loss_fn, scale, batch_size)\u001b[0m\n\u001b[1;32m     20\u001b[0m edge_index \u001b[38;5;241m=\u001b[39m torch\u001b[38;5;241m.\u001b[39mtensor(\u001b[38;5;28mlist\u001b[39m(g\u001b[38;5;241m.\u001b[39medges())) \u001b[38;5;241m+\u001b[39m start\n\u001b[1;32m     22\u001b[0m \u001b[38;5;66;03m# Calculate each node’s exact BC value bv, ∀v ∈ V\u001b[39;00m\n\u001b[1;32m     23\u001b[0m \u001b[38;5;66;03m# 1-n\u001b[39;00m\n\u001b[0;32m---> 24\u001b[0m exact_bc \u001b[38;5;241m=\u001b[39m \u001b[43mnx\u001b[49m\u001b[38;5;241;43m.\u001b[39;49m\u001b[43mbetweenness_centrality\u001b[49m\u001b[43m(\u001b[49m\u001b[43mg\u001b[49m\u001b[43m)\u001b[49m\n\u001b[1;32m     25\u001b[0m exact_bc \u001b[38;5;241m=\u001b[39m torch\u001b[38;5;241m.\u001b[39mtensor(\u001b[38;5;28mlist\u001b[39m(exact_bc\u001b[38;5;241m.\u001b[39mvalues()))\n\u001b[1;32m     27\u001b[0m \u001b[38;5;66;03m# 隨機取排列組合\u001b[39;00m\n",
      "File \u001b[0;32m~/miniconda3/envs/jupyterlab/lib/python3.9/site-packages/networkx/classes/backends.py:145\u001b[0m, in \u001b[0;36m_dispatch.<locals>.wrapper\u001b[0;34m(*args, **kwds)\u001b[0m\n\u001b[1;32m    141\u001b[0m         \u001b[38;5;28;01melse\u001b[39;00m:\n\u001b[1;32m    142\u001b[0m             \u001b[38;5;28;01mraise\u001b[39;00m NetworkXNotImplemented(\n\u001b[1;32m    143\u001b[0m                 \u001b[38;5;124mf\u001b[39m\u001b[38;5;124m\"\u001b[39m\u001b[38;5;124m'\u001b[39m\u001b[38;5;132;01m{\u001b[39;00mname\u001b[38;5;132;01m}\u001b[39;00m\u001b[38;5;124m'\u001b[39m\u001b[38;5;124m not implemented by \u001b[39m\u001b[38;5;132;01m{\u001b[39;00mplugin_name\u001b[38;5;132;01m}\u001b[39;00m\u001b[38;5;124m\"\u001b[39m\n\u001b[1;32m    144\u001b[0m             )\n\u001b[0;32m--> 145\u001b[0m \u001b[38;5;28;01mreturn\u001b[39;00m \u001b[43mfunc\u001b[49m\u001b[43m(\u001b[49m\u001b[38;5;241;43m*\u001b[39;49m\u001b[43margs\u001b[49m\u001b[43m,\u001b[49m\u001b[43m \u001b[49m\u001b[38;5;241;43m*\u001b[39;49m\u001b[38;5;241;43m*\u001b[39;49m\u001b[43mkwds\u001b[49m\u001b[43m)\u001b[49m\n",
      "File \u001b[0;32m<class 'networkx.utils.decorators.argmap'> compilation 12:4\u001b[0m, in \u001b[0;36margmap_betweenness_centrality_9\u001b[0;34m(G, k, normalized, weight, endpoints, seed)\u001b[0m\n\u001b[1;32m      2\u001b[0m \u001b[38;5;28;01mimport\u001b[39;00m \u001b[38;5;21;01mcollections\u001b[39;00m\n\u001b[1;32m      3\u001b[0m \u001b[38;5;28;01mimport\u001b[39;00m \u001b[38;5;21;01mgzip\u001b[39;00m\n\u001b[0;32m----> 4\u001b[0m \u001b[38;5;28;01mimport\u001b[39;00m \u001b[38;5;21;01minspect\u001b[39;00m\n\u001b[1;32m      5\u001b[0m \u001b[38;5;28;01mimport\u001b[39;00m \u001b[38;5;21;01mitertools\u001b[39;00m\n\u001b[1;32m      6\u001b[0m \u001b[38;5;28;01mimport\u001b[39;00m \u001b[38;5;21;01mre\u001b[39;00m\n",
      "File \u001b[0;32m~/miniconda3/envs/jupyterlab/lib/python3.9/site-packages/networkx/algorithms/centrality/betweenness.py:131\u001b[0m, in \u001b[0;36mbetweenness_centrality\u001b[0;34m(G, k, normalized, weight, endpoints, seed)\u001b[0m\n\u001b[1;32m    128\u001b[0m \u001b[38;5;28;01mfor\u001b[39;00m s \u001b[38;5;129;01min\u001b[39;00m nodes:\n\u001b[1;32m    129\u001b[0m     \u001b[38;5;66;03m# single source shortest paths\u001b[39;00m\n\u001b[1;32m    130\u001b[0m     \u001b[38;5;28;01mif\u001b[39;00m weight \u001b[38;5;129;01mis\u001b[39;00m \u001b[38;5;28;01mNone\u001b[39;00m:  \u001b[38;5;66;03m# use BFS\u001b[39;00m\n\u001b[0;32m--> 131\u001b[0m         S, P, sigma, _ \u001b[38;5;241m=\u001b[39m \u001b[43m_single_source_shortest_path_basic\u001b[49m\u001b[43m(\u001b[49m\u001b[43mG\u001b[49m\u001b[43m,\u001b[49m\u001b[43m \u001b[49m\u001b[43ms\u001b[49m\u001b[43m)\u001b[49m\n\u001b[1;32m    132\u001b[0m     \u001b[38;5;28;01melse\u001b[39;00m:  \u001b[38;5;66;03m# use Dijkstra's algorithm\u001b[39;00m\n\u001b[1;32m    133\u001b[0m         S, P, sigma, _ \u001b[38;5;241m=\u001b[39m _single_source_dijkstra_path_basic(G, s, weight)\n",
      "File \u001b[0;32m~/miniconda3/envs/jupyterlab/lib/python3.9/site-packages/networkx/algorithms/centrality/betweenness.py:269\u001b[0m, in \u001b[0;36m_single_source_shortest_path_basic\u001b[0;34m(G, s)\u001b[0m\n\u001b[1;32m    267\u001b[0m     Q\u001b[38;5;241m.\u001b[39mappend(w)\n\u001b[1;32m    268\u001b[0m     D[w] \u001b[38;5;241m=\u001b[39m Dv \u001b[38;5;241m+\u001b[39m \u001b[38;5;241m1\u001b[39m\n\u001b[0;32m--> 269\u001b[0m \u001b[38;5;28;01mif\u001b[39;00m \u001b[43mD\u001b[49m\u001b[43m[\u001b[49m\u001b[43mw\u001b[49m\u001b[43m]\u001b[49m \u001b[38;5;241m==\u001b[39m Dv \u001b[38;5;241m+\u001b[39m \u001b[38;5;241m1\u001b[39m:  \u001b[38;5;66;03m# this is a shortest path, count paths\u001b[39;00m\n\u001b[1;32m    270\u001b[0m     sigma[w] \u001b[38;5;241m+\u001b[39m\u001b[38;5;241m=\u001b[39m sigmav\n\u001b[1;32m    271\u001b[0m     P[w]\u001b[38;5;241m.\u001b[39mappend(v)  \u001b[38;5;66;03m# predecessors\u001b[39;00m\n",
      "\u001b[0;31mKeyboardInterrupt\u001b[0m: "
     ]
    }
   ],
   "source": [
    "# 好像是跑不了 =)\n",
    "scale = [[5000], [10000], [20000], [50000], [100000]]\n",
    "for i in scale[:1] :\n",
    "    ls_loss = training_loop(\n",
    "        model = model, \n",
    "        n_epochs = n_epochs, \n",
    "        optimizer = optimizer, \n",
    "        loss_fn = loss_fn, \n",
    "        scale = i, \n",
    "        batch_size = mini_batch_size\n",
    "\n",
    "    )\n",
    "    loss[str(i)] = ls_loss"
   ]
  },
  {
   "cell_type": "markdown",
   "id": "5568b272-0ffb-458e-9c36-e05798ca843e",
   "metadata": {},
   "source": [
    "### Test"
   ]
  },
  {
   "cell_type": "code",
   "execution_count": 82,
   "id": "589788ec-9b83-42da-a50d-1b23b0c3ba95",
   "metadata": {},
   "outputs": [],
   "source": [
    "def test_data(model, graph, exact_bc, top_n, device = torch.device('cpu')) :\n",
    "    s = time.time()\n",
    "    model = model.to(device)\n",
    "    pred_bc = model(graph.to(device))\n",
    "    exact_bc = np.argsort(exact_bc[::, 1])\n",
    "    top = []\n",
    "    for n in top_n : \n",
    "        s = time.time()\n",
    "        num = int(np.ceil(graph.num_nodes * n / 100))\n",
    "        exact = np.argsort(exact_bc)[-num:]\n",
    "        pred = torch.argsort(pred_bc, dim = 0)[-num:].cpu()\n",
    "        acc = len(np.intersect1d(exact, pred)) / num\n",
    "        top.append(acc)\n",
    "        # print('Top ', n, ' Accuracy : %.4f'%acc )\n",
    "    t = time.time() - s\n",
    "    # print('Running Time : ', t)\n",
    "    tau_dist, _ = stats.kendalltau(pred_bc.cpu().detach().numpy(), exact_bc)\n",
    "    top.append(tau_dist)\n",
    "    top.append(t)\n",
    "    # print('Kendall tau distance : %.4f'%tau_dist)\n",
    "    # return np.array(top).reshape(1, -1)\n",
    "    return top"
   ]
  },
  {
   "cell_type": "code",
   "execution_count": null,
   "id": "b9f58c84-8bc6-49ca-9551-6760458bfa6d",
   "metadata": {},
   "outputs": [],
   "source": [
    "# test for youtube\n",
    "# 先不能跑\n",
    "top = test_data(\n",
    "    model = model, \n",
    "    graph = youtube, \n",
    "    exact_bc = youtube_score, \n",
    "    top_n = [1, 5, 10], \n",
    "    device = torch.device('cpu')\n",
    ")\n",
    "top = np.array(top)\n",
    "print('Top 1 Accuracy : {:.1f}'.format(top[0]))\n",
    "print('Top 5 Accuracy : {:.1f}'.format(top[1]))\n",
    "print('Top 10 Accuracy : {:.1f}'.format(top[2]))\n",
    "print('Kendall tau distance : {:.1f}'.format(top[3]))\n",
    "print('Running Time : {:.1f}'.format(top[4]))"
   ]
  },
  {
   "cell_type": "code",
   "execution_count": 85,
   "id": "5bab0942-2c10-470c-81a4-a23c29d09f6f",
   "metadata": {
    "tags": []
   },
   "outputs": [
    {
     "name": "stdout",
     "output_type": "stream",
     "text": [
      "Top 1 Accuracy : 1.2±1.3\n",
      "Top 5 Accuracy : 7.7±1.7\n",
      "Top 10 Accuracy : 15.0±1.5\n",
      "Kendall tau distance : 12.3±0.9\n",
      "time :  3.058362007141113\n"
     ]
    }
   ],
   "source": [
    "# test for 30 graph\n",
    "def test_30(model, graph, score, n = 30):\n",
    "    t = []\n",
    "    top_n = [1, 5, 10]\n",
    "    for i in  range(n): \n",
    "        top = test_data(\n",
    "            model = model, \n",
    "            graph = graph[i], \n",
    "            exact_bc = score[str(i)], \n",
    "            top_n = top_n, \n",
    "            device = torch.device('cpu')\n",
    "        )\n",
    "        t.append(top)\n",
    "    t = np.array(t)\n",
    "    t_mean = np.mean(t, axis = 0) * 100\n",
    "    t_std = np.std(t, axis = 0) * 100\n",
    "    print('Top',  top_n[0],  'Accuracy : {:.1f}±{:.1f}'.format(t_mean[0], t_std[0]))\n",
    "    print('Top',  top_n[1],  'Accuracy : {:.1f}±{:.1f}'.format(t_mean[1], t_std[1]))\n",
    "    print('Top',  top_n[2],  'Accuracy : {:.1f}±{:.1f}'.format(t_mean[2], t_std[2]))\n",
    "    print('Kendall tau distance : {:.1f}±{:.1f}'.format(t_mean[3], t_std[3]))\n",
    "    print('time : ', t_mean[4] * n)\n",
    "\n",
    "test_30(\n",
    "    model = model, \n",
    "    graph = total_graph, \n",
    "    score = total_score, \n",
    "    n = 30\n",
    ")"
   ]
  },
  {
   "cell_type": "code",
   "execution_count": 13,
   "id": "21df96e1-a17a-4161-9091-911765de0a36",
   "metadata": {},
   "outputs": [
    {
     "data": {
      "text/plain": [
       "DrBC(\n",
       "  (line2): Sequential(\n",
       "    (0): Linear(in_features=3, out_features=128, bias=True)\n",
       "    (1): ReLU()\n",
       "  )\n",
       "  (line5): GCNConv_self()\n",
       "  (line6): GRUCell(128, 128, bias=False)\n",
       "  (decoder): Sequential(\n",
       "    (0): Linear(in_features=128, out_features=32, bias=True)\n",
       "    (1): ReLU()\n",
       "    (2): Linear(in_features=32, out_features=1, bias=True)\n",
       "  )\n",
       ")"
      ]
     },
     "execution_count": 13,
     "metadata": {},
     "output_type": "execute_result"
    }
   ],
   "source": [
    "# parameters\n",
    "learning_rate = 1e-4\n",
    "embedding_dimension = 128\n",
    "maximum_episodes = 10 ** 4\n",
    "layer_iterations = 5\n",
    "loss_fn = nn.BCEWithLogitsLoss(reduction = 'sum')\n",
    "optimizer = torch.optim.Adam(model.parameters(), lr = learning_rate, weight_decay = 1e-5)\n",
    "model = DrBC(encoder_layers = layer_iterations, emb_dim = embedding_dimension)\n",
    "model.load_state_dict(torch.load('./model/DrBC.pt'))"
   ]
  },
  {
   "cell_type": "code",
   "execution_count": null,
   "id": "fabf42d3-1fdc-462f-818c-9d37e3446e24",
   "metadata": {},
   "outputs": [],
   "source": [
    "# different scale\n",
    "# not yet\n",
    "def diff_scale(train_scale, test_scale) :\n",
    "    for i in train_scale :\n",
    "        for j in test_scale :\n",
    "            # generate 30 graoh\n",
    "            \n",
    "            \n",
    "            # test\n",
    "            \n",
    "            "
   ]
  },
  {
   "cell_type": "code",
   "execution_count": null,
   "id": "211defa5-7079-4712-bae9-102db4238108",
   "metadata": {},
   "outputs": [],
   "source": []
  }
 ],
 "metadata": {
  "kernelspec": {
   "display_name": "jupyterlab",
   "language": "python",
   "name": "jupyterlab"
  },
  "language_info": {
   "codemirror_mode": {
    "name": "ipython",
    "version": 3
   },
   "file_extension": ".py",
   "mimetype": "text/x-python",
   "name": "python",
   "nbconvert_exporter": "python",
   "pygments_lexer": "ipython3",
   "version": "3.9.13"
  }
 },
 "nbformat": 4,
 "nbformat_minor": 5
}
